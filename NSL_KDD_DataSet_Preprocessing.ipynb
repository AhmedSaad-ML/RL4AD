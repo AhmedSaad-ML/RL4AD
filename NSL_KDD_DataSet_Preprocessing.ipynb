{
 "cells": [
  {
   "cell_type": "code",
   "execution_count": 2,
   "metadata": {
    "collapsed": false
   },
   "outputs": [
    {
     "data": {
      "text/plain": [
       "'\\nThis python script does the following:\\n1. Loads NSL_KDD_Dataset from a file\\n2. Convert every continuous variable x into categorical by binnig. Here a quantile based binning is used\\n   - x < 0.2 : low\\n   - 0.2 <= x < 0.4: low_medium\\n   - 0.4 <= x\\n'"
      ]
     },
     "execution_count": 2,
     "metadata": {},
     "output_type": "execute_result"
    }
   ],
   "source": [
    "\"\"\"\n",
    "This python script does the following:\n",
    "1. Loads NSL_KDD_Dataset from a file\n",
    "2. Convert every continuous variable x into categorical by binnig. \n",
    "   Here a quantile based binning is used\n",
    "   0.0 <= x < 0.2 : 1\n",
    "   0.2 <= x < 0.4 : 2\n",
    "   0.4 <= x < 0.6 : 3\n",
    "   0.6 <= x < 0.8 : 4\n",
    "   0.8 <= x < 1.0 : 5\n",
    "3. Convert all categorical variables to boolean using one hot encoding\n",
    "4. Write the resulting output into a file after compressing using pickle\n",
    "\"\"\""
   ]
  },
  {
   "cell_type": "code",
   "execution_count": 1,
   "metadata": {
    "collapsed": false
   },
   "outputs": [],
   "source": [
    "import numpy as np\n",
    "import pandas as pd\n",
    "from sklearn import preprocessing"
   ]
  },
  {
   "cell_type": "code",
   "execution_count": 2,
   "metadata": {
    "collapsed": true
   },
   "outputs": [],
   "source": [
    "# File containing NSL_KDD_DataSet\n",
    "f = '/Users/harikoduvely/Projects/RL/DataSets/NSL_KDD_DataSet/KDDTrain+.csv'"
   ]
  },
  {
   "cell_type": "code",
   "execution_count": 3,
   "metadata": {
    "collapsed": true
   },
   "outputs": [],
   "source": [
    "# Column Names for NSL_KDD_DataSet\n",
    "nsl_kdd_columns = ['duration',\n",
    "'protocol_type',\n",
    "'service',\n",
    "'flag',\n",
    "'src_bytes',\n",
    "'dst_bytes',\n",
    "'land',\n",
    "'wrong_fragment',\n",
    "'urgent',\n",
    "'hot',\n",
    "'num_failed_logins',\n",
    "'logged_in',\n",
    "'num_compromised',\n",
    "'root_shell',\n",
    "'su_attempted',\n",
    "'num_root',\n",
    "'num_file_creations',\n",
    "'num_shells',\n",
    "'num_access_files',\n",
    "'num_outbound_cmds',\n",
    "'is_host_login',\n",
    "'is_guest_login',\n",
    "'count',\n",
    "'srv_count',\n",
    "'serror_rate',\n",
    "'srv_serror_rate',\n",
    "'rerror_rate',\n",
    "'srv_rerror_rate',\n",
    "'same_srv_rate',\n",
    "'diff_srv_rate',\n",
    "'srv_diff_host_rate',\n",
    "'dst_host_count',\n",
    "'dst_host_srv_count',\n",
    "'dst_host_same_srv_rate',\n",
    "'dst_host_diff_srv_rate',\n",
    "'dst_host_same_src_port_rate',\n",
    "'dst_host_srv_diff_host_rate',\n",
    "'dst_host_serror_rate',\n",
    "'dst_host_srv_serror_rate',\n",
    "'dst_host_rerror_rate',\n",
    "'dst_host_srv_rerror_rate',\n",
    "'attack_type',\n",
    "'no_correctly_classified'] "
   ]
  },
  {
   "cell_type": "code",
   "execution_count": 4,
   "metadata": {
    "collapsed": false
   },
   "outputs": [],
   "source": [
    "# Load Data\n",
    "df_nsl = pd.read_csv(f,header=None, names=nsl_kdd_columns) "
   ]
  },
  {
   "cell_type": "code",
   "execution_count": 5,
   "metadata": {
    "collapsed": false
   },
   "outputs": [],
   "source": [
    "# Dropping the column 'no_correctly_classified'\n",
    "df_nsl = df_nsl.drop(['no_correctly_classified'], axis=1)"
   ]
  },
  {
   "cell_type": "code",
   "execution_count": 6,
   "metadata": {
    "collapsed": true
   },
   "outputs": [],
   "source": [
    "# Split Numeric and Categorical Variables\n",
    "df_nsl_cat = df_nsl.select_dtypes(include=[object])"
   ]
  },
  {
   "cell_type": "code",
   "execution_count": 7,
   "metadata": {
    "collapsed": true
   },
   "outputs": [],
   "source": [
    "df_nsl_num = df_nsl.select_dtypes(exclude=[object])"
   ]
  },
  {
   "cell_type": "code",
   "execution_count": 8,
   "metadata": {
    "collapsed": false
   },
   "outputs": [],
   "source": [
    "# Keeping the attack_type in a separate dataframe (no need to one hot encode this)\n",
    "df_nsl_attack_type = df_nsl_cat.drop(['protocol_type','service','flag'], axis=1)"
   ]
  },
  {
   "cell_type": "code",
   "execution_count": 9,
   "metadata": {
    "collapsed": true
   },
   "outputs": [],
   "source": [
    "df_nsl_cat = df_nsl_cat.drop(['attack_type'], axis=1)"
   ]
  },
  {
   "cell_type": "code",
   "execution_count": 10,
   "metadata": {
    "collapsed": false
   },
   "outputs": [],
   "source": [
    "# Keeping the binary variables in a separate dataframe (no need to bin these)\n",
    "df_nsl_bin = df_nsl_num[['logged_in','is_host_login','is_guest_login','root_shell','urgent','su_attempted']]"
   ]
  },
  {
   "cell_type": "code",
   "execution_count": 11,
   "metadata": {
    "collapsed": true
   },
   "outputs": [],
   "source": [
    "df_nsl_cont= df_nsl_num.drop(['logged_in','is_host_login','is_guest_login','root_shell','urgent','su_attempted'], axis=1)"
   ]
  },
  {
   "cell_type": "code",
   "execution_count": null,
   "metadata": {
    "collapsed": true
   },
   "outputs": [],
   "source": [
    "# Code below convert all the continous variables by first discretizing them and then using\n",
    "# One-Hot encoder"
   ]
  },
  {
   "cell_type": "code",
   "execution_count": 12,
   "metadata": {
    "collapsed": true
   },
   "outputs": [],
   "source": [
    "# Discretizing continuous variables using binning\n",
    "def quantile_discret(x, q2, q4, q6, q8):\n",
    "    # _1  : low \n",
    "    # _2 : Low_Medium\n",
    "    # _3  : Medium\n",
    "    # _4 : High_Medium\n",
    "    # _5  : High\n",
    "    if x < q2:\n",
    "        y = 1\n",
    "    elif (x >= q2 and x < q4):\n",
    "        y = 2\n",
    "    elif (x >= q4 and x < q6):\n",
    "        y = 3\n",
    "    elif (x >= q6 and x < q8):\n",
    "        y = 4\n",
    "    else:\n",
    "        y = 5\n",
    "\n",
    "    return y"
   ]
  },
  {
   "cell_type": "code",
   "execution_count": 13,
   "metadata": {
    "collapsed": true
   },
   "outputs": [],
   "source": [
    "colnames_nsl_cont = list(df_nsl_cont)"
   ]
  },
  {
   "cell_type": "code",
   "execution_count": 14,
   "metadata": {
    "collapsed": false
   },
   "outputs": [],
   "source": [
    "for name in colnames_nsl_cont:\n",
    "    new_name = 'disc_' + name\n",
    "    \"\"\"\n",
    "    q2 = df_nsl_cont[name].quantile(0.2)\n",
    "    q4 = df_nsl_cont[name].quantile(0.4)\n",
    "    q6 = df_nsl_cont[name].quantile(0.6)\n",
    "    q8 = df_nsl_cont[name].quantile(0.8)\n",
    "    \"\"\"\n",
    "    xmin = df_nsl_cont[name].min()\n",
    "    xmax = df_nsl_cont[name].max()\n",
    "    xgap = (xmax - xmin)/5\n",
    "    q2 = xmin + xgap\n",
    "    q4 = xmin + 2*xgap\n",
    "    q6 = xmin + 3*xgap\n",
    "    q8 = xmin + 4*xgap\n",
    "    df_nsl_cont[new_name] = df_nsl_cont[name].apply(quantile_discret, args=(q2, q4, q6, q8))"
   ]
  },
  {
   "cell_type": "code",
   "execution_count": 15,
   "metadata": {
    "collapsed": false
   },
   "outputs": [],
   "source": [
    "df_nsl_disc = df_nsl_cont.drop(colnames_nsl_cont, axis=1)"
   ]
  },
  {
   "cell_type": "code",
   "execution_count": 16,
   "metadata": {
    "collapsed": false
   },
   "outputs": [],
   "source": [
    "enc = preprocessing.OneHotEncoder()"
   ]
  },
  {
   "cell_type": "code",
   "execution_count": 17,
   "metadata": {
    "collapsed": false
   },
   "outputs": [
    {
     "data": {
      "text/plain": [
       "OneHotEncoder(categorical_features='all', dtype=<type 'numpy.float64'>,\n",
       "       handle_unknown='error', n_values='auto', sparse=True)"
      ]
     },
     "execution_count": 17,
     "metadata": {},
     "output_type": "execute_result"
    }
   ],
   "source": [
    "enc.fit(df_nsl_disc)"
   ]
  },
  {
   "cell_type": "code",
   "execution_count": 18,
   "metadata": {
    "collapsed": true
   },
   "outputs": [],
   "source": [
    "ar_df_nsl_disc = enc.transform(df_nsl_disc).toarray()"
   ]
  },
  {
   "cell_type": "code",
   "execution_count": 19,
   "metadata": {
    "collapsed": false
   },
   "outputs": [],
   "source": [
    "df_nsl_cont_onehot = pd.DataFrame(ar_df_nsl_disc)"
   ]
  },
  {
   "cell_type": "code",
   "execution_count": null,
   "metadata": {
    "collapsed": true
   },
   "outputs": [],
   "source": [
    "# Code below convert all the discrete variables by first lablelling them and then using\n",
    "# One-Hot encoder"
   ]
  },
  {
   "cell_type": "code",
   "execution_count": 20,
   "metadata": {
    "collapsed": true
   },
   "outputs": [],
   "source": [
    "le = preprocessing.LabelEncoder()"
   ]
  },
  {
   "cell_type": "code",
   "execution_count": 21,
   "metadata": {
    "collapsed": true
   },
   "outputs": [],
   "source": [
    "df_nsl_cat_lab = df_nsl_cat.apply(le.fit_transform)"
   ]
  },
  {
   "cell_type": "code",
   "execution_count": 23,
   "metadata": {
    "collapsed": true
   },
   "outputs": [],
   "source": [
    "enc = preprocessing.OneHotEncoder()"
   ]
  },
  {
   "cell_type": "code",
   "execution_count": 24,
   "metadata": {
    "collapsed": false
   },
   "outputs": [
    {
     "data": {
      "text/plain": [
       "OneHotEncoder(categorical_features='all', dtype=<type 'numpy.float64'>,\n",
       "       handle_unknown='error', n_values='auto', sparse=True)"
      ]
     },
     "execution_count": 24,
     "metadata": {},
     "output_type": "execute_result"
    }
   ],
   "source": [
    "enc.fit(df_nsl_cat_lab)"
   ]
  },
  {
   "cell_type": "code",
   "execution_count": 25,
   "metadata": {
    "collapsed": true
   },
   "outputs": [],
   "source": [
    "ar_df_nsl_cat = enc.transform(df_nsl_cat_lab).toarray()"
   ]
  },
  {
   "cell_type": "code",
   "execution_count": 26,
   "metadata": {
    "collapsed": true
   },
   "outputs": [],
   "source": [
    "df_nsl_cat_onehot = pd.DataFrame(ar_df_nsl_cat)"
   ]
  },
  {
   "cell_type": "code",
   "execution_count": 27,
   "metadata": {
    "collapsed": true
   },
   "outputs": [],
   "source": [
    "# Converting attack type column to normal or attack\n",
    "def connection_type(x):\n",
    "    if x == 'normal':\n",
    "        y = -1.0\n",
    "    else:\n",
    "        y = 1.0\n",
    "    return y"
   ]
  },
  {
   "cell_type": "code",
   "execution_count": 28,
   "metadata": {
    "collapsed": false
   },
   "outputs": [],
   "source": [
    "df_nsl_connection_type = df_nsl_attack_type['attack_type'].apply(connection_type)"
   ]
  },
  {
   "cell_type": "code",
   "execution_count": 31,
   "metadata": {
    "collapsed": true
   },
   "outputs": [],
   "source": [
    "# Finally joining the continuous honhot, categorial onehot, binary variables and attack types\n",
    "# to create the final dataset "
   ]
  },
  {
   "cell_type": "code",
   "execution_count": 29,
   "metadata": {
    "collapsed": false
   },
   "outputs": [],
   "source": [
    "df_nsl_onehot = pd.concat([df_nsl_connection_type, df_nsl_cont_onehot, df_nsl_cat_onehot, df_nsl_bin], axis=1)"
   ]
  },
  {
   "cell_type": "code",
   "execution_count": 30,
   "metadata": {
    "collapsed": true
   },
   "outputs": [],
   "source": [
    "new_col_names = ['y']\n",
    "for i in range(df_nsl_onehot.shape[1]-1):\n",
    "    new_col_names.append('x_' + str(i+1))"
   ]
  },
  {
   "cell_type": "code",
   "execution_count": 31,
   "metadata": {
    "collapsed": false
   },
   "outputs": [],
   "source": [
    "# Renaming colums\n",
    "\"\"\"\n",
    "old_names = list(df_nsl_onehot) \n",
    "new_names = new_col_names\n",
    "df_nsl_onehot.rename(columns=dict(zip(old_names, new_names)), inplace=True)\n",
    "\"\"\"\n",
    "df_nsl_onehot.columns = new_col_names"
   ]
  },
  {
   "cell_type": "code",
   "execution_count": 70,
   "metadata": {
    "collapsed": true
   },
   "outputs": [],
   "source": [
    "# Saving the dataframe to a pickle file\n",
    "#df_nsl_onehot.to_pickle('/Users/harikoduvely/Projects/RL/DataSets/kdd_nsl_train_onehot.pkl')"
   ]
  },
  {
   "cell_type": "code",
   "execution_count": 2,
   "metadata": {
    "collapsed": true
   },
   "outputs": [],
   "source": [
    "# Converting multiple columns to a boolean string format and storing only one colums\n",
    "#df_nsl_onehot = pd.DataFrame(pd.read_pickle('/Users/harikoduvely/Projects/RL/RL4AD/kdd_nsl_train_onehot.pkl'))"
   ]
  },
  {
   "cell_type": "code",
   "execution_count": 32,
   "metadata": {
    "collapsed": false
   },
   "outputs": [],
   "source": [
    "df_nsl_onehot_s = df_nsl_onehot.drop(['y'], axis=1).astype(int).astype(str)"
   ]
  },
  {
   "cell_type": "code",
   "execution_count": 33,
   "metadata": {
    "collapsed": true
   },
   "outputs": [],
   "source": [
    "def row_concat(x):\n",
    "    return ''.join(list(x))"
   ]
  },
  {
   "cell_type": "code",
   "execution_count": 34,
   "metadata": {
    "collapsed": false
   },
   "outputs": [],
   "source": [
    "df_nsl_onehot_string = df_nsl_onehot_s.apply(row_concat, axis=1)"
   ]
  },
  {
   "cell_type": "code",
   "execution_count": 35,
   "metadata": {
    "collapsed": false
   },
   "outputs": [],
   "source": [
    "df_nsl_onehot_s = pd.concat([df_nsl_onehot['y'],df_nsl_onehot_string], axis=1)"
   ]
  },
  {
   "cell_type": "code",
   "execution_count": 36,
   "metadata": {
    "collapsed": false
   },
   "outputs": [],
   "source": [
    "# Renaming columns\n",
    "df_nsl_onehot_s.columns=['y','s'] "
   ]
  },
  {
   "cell_type": "code",
   "execution_count": 40,
   "metadata": {
    "collapsed": false
   },
   "outputs": [
    {
     "data": {
      "text/plain": [
       "226"
      ]
     },
     "execution_count": 40,
     "metadata": {},
     "output_type": "execute_result"
    }
   ],
   "source": [
    "len(df_nsl_onehot_s.iloc[0][1])"
   ]
  },
  {
   "cell_type": "code",
   "execution_count": 38,
   "metadata": {
    "collapsed": true
   },
   "outputs": [],
   "source": [
    "# Saving the dataframe to a pickle file in directory DataSets\n",
    "df_nsl_onehot_s.to_pickle('/Users/harikoduvely/Projects/RL/DataSets/NSL_KDD_PKL/kdd_nsl_train_onehot_string.pkl')"
   ]
  },
  {
   "cell_type": "code",
   "execution_count": null,
   "metadata": {
    "collapsed": true
   },
   "outputs": [],
   "source": []
  }
 ],
 "metadata": {
  "kernelspec": {
   "display_name": "Python 2",
   "language": "python",
   "name": "python2"
  },
  "language_info": {
   "codemirror_mode": {
    "name": "ipython",
    "version": 2
   },
   "file_extension": ".py",
   "mimetype": "text/x-python",
   "name": "python",
   "nbconvert_exporter": "python",
   "pygments_lexer": "ipython2",
   "version": "2.7.13"
  }
 },
 "nbformat": 4,
 "nbformat_minor": 2
}
