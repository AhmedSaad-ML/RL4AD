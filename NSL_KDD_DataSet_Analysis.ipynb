{
 "cells": [
  {
   "cell_type": "code",
   "execution_count": null,
   "metadata": {
    "collapsed": true
   },
   "outputs": [],
   "source": [
    "\"\"\"\n",
    "This script is to analyze and preprocess NSL_KDD Dataset\n",
    "\"\"\""
   ]
  },
  {
   "cell_type": "code",
   "execution_count": 1,
   "metadata": {
    "collapsed": true
   },
   "outputs": [],
   "source": [
    "import numpy as np\n",
    "import pandas as pd"
   ]
  },
  {
   "cell_type": "code",
   "execution_count": 11,
   "metadata": {
    "collapsed": true
   },
   "outputs": [],
   "source": [
    "column_names = ['duration',\n",
    "'protocol_type',\n",
    "'service',\n",
    "'flag',\n",
    "'src_bytes',\n",
    "'dst_bytes',\n",
    "'land',\n",
    "'wrong_fragment',\n",
    "'urgent',\n",
    "'hot',\n",
    "'num_failed_logins',\n",
    "'logged_in',\n",
    "'num_compromised',\n",
    "'root_shell',\n",
    "'su_attempted',\n",
    "'num_root',\n",
    "'num_file_creations',\n",
    "'num_shells',\n",
    "'num_access_files',\n",
    "'num_outbound_cmds',\n",
    "'is_host_login',\n",
    "'is_guest_login',\n",
    "'count',\n",
    "'srv_count',\n",
    "'serror_rate',\n",
    "'srv_serror_rate',\n",
    "'rerror_rate',\n",
    "'srv_rerror_rate',\n",
    "'same_srv_rate',\n",
    "'diff_srv_rate',\n",
    "'srv_diff_host_rate',\n",
    "'dst_host_count',\n",
    "'dst_host_srv_count',\n",
    "'dst_host_same_srv_rate',\n",
    "'dst_host_diff_srv_rate',\n",
    "'dst_host_same_src_port_rate',\n",
    "'dst_host_srv_diff_host_rate',\n",
    "'dst_host_serror_rate',\n",
    "'dst_host_srv_serror_rate',\n",
    "'dst_host_rerror_rate',\n",
    "'dst_host_srv_rerror_rate',\n",
    "'attack_type',\n",
    "'no_correctly_classified'] "
   ]
  },
  {
   "cell_type": "code",
   "execution_count": 12,
   "metadata": {
    "collapsed": false
   },
   "outputs": [
    {
     "data": {
      "text/plain": [
       "43"
      ]
     },
     "execution_count": 12,
     "metadata": {},
     "output_type": "execute_result"
    }
   ],
   "source": [
    "len(column_names)"
   ]
  },
  {
   "cell_type": "code",
   "execution_count": 13,
   "metadata": {
    "collapsed": true
   },
   "outputs": [],
   "source": [
    "f = '/Users/harikoduvely/Projects/RL/NSL_KDD_DataSet/Small_Training_Set.csv'"
   ]
  },
  {
   "cell_type": "code",
   "execution_count": 14,
   "metadata": {
    "collapsed": false
   },
   "outputs": [],
   "source": [
    "df_ST = pd.read_csv(f,header=None, names = column_names)    "
   ]
  },
  {
   "cell_type": "code",
   "execution_count": 15,
   "metadata": {
    "collapsed": false
   },
   "outputs": [
    {
     "data": {
      "text/html": [
       "<div>\n",
       "<table border=\"1\" class=\"dataframe\">\n",
       "  <thead>\n",
       "    <tr style=\"text-align: right;\">\n",
       "      <th></th>\n",
       "      <th>duration</th>\n",
       "      <th>protocol_type</th>\n",
       "      <th>service</th>\n",
       "      <th>flag</th>\n",
       "      <th>src_bytes</th>\n",
       "      <th>dst_bytes</th>\n",
       "      <th>land</th>\n",
       "      <th>wrong_fragment</th>\n",
       "      <th>urgent</th>\n",
       "      <th>hot</th>\n",
       "      <th>...</th>\n",
       "      <th>dst_host_same_srv_rate</th>\n",
       "      <th>dst_host_diff_srv_rate</th>\n",
       "      <th>dst_host_same_src_port_rate</th>\n",
       "      <th>dst_host_srv_diff_host_rate</th>\n",
       "      <th>dst_host_serror_rate</th>\n",
       "      <th>dst_host_srv_serror_rate</th>\n",
       "      <th>dst_host_rerror_rate</th>\n",
       "      <th>dst_host_srv_rerror_rate</th>\n",
       "      <th>attack_type</th>\n",
       "      <th>no_correctly_classified</th>\n",
       "    </tr>\n",
       "  </thead>\n",
       "  <tbody>\n",
       "    <tr>\n",
       "      <th>0</th>\n",
       "      <td>0</td>\n",
       "      <td>tcp</td>\n",
       "      <td>ftp_data</td>\n",
       "      <td>SF</td>\n",
       "      <td>491</td>\n",
       "      <td>0</td>\n",
       "      <td>0</td>\n",
       "      <td>0</td>\n",
       "      <td>0</td>\n",
       "      <td>0</td>\n",
       "      <td>...</td>\n",
       "      <td>0.17</td>\n",
       "      <td>0.03</td>\n",
       "      <td>0.17</td>\n",
       "      <td>0.00</td>\n",
       "      <td>0.00</td>\n",
       "      <td>0.00</td>\n",
       "      <td>0.05</td>\n",
       "      <td>0.00</td>\n",
       "      <td>normal</td>\n",
       "      <td>20</td>\n",
       "    </tr>\n",
       "    <tr>\n",
       "      <th>1</th>\n",
       "      <td>0</td>\n",
       "      <td>udp</td>\n",
       "      <td>other</td>\n",
       "      <td>SF</td>\n",
       "      <td>146</td>\n",
       "      <td>0</td>\n",
       "      <td>0</td>\n",
       "      <td>0</td>\n",
       "      <td>0</td>\n",
       "      <td>0</td>\n",
       "      <td>...</td>\n",
       "      <td>0.00</td>\n",
       "      <td>0.60</td>\n",
       "      <td>0.88</td>\n",
       "      <td>0.00</td>\n",
       "      <td>0.00</td>\n",
       "      <td>0.00</td>\n",
       "      <td>0.00</td>\n",
       "      <td>0.00</td>\n",
       "      <td>normal</td>\n",
       "      <td>15</td>\n",
       "    </tr>\n",
       "    <tr>\n",
       "      <th>2</th>\n",
       "      <td>0</td>\n",
       "      <td>tcp</td>\n",
       "      <td>private</td>\n",
       "      <td>S0</td>\n",
       "      <td>0</td>\n",
       "      <td>0</td>\n",
       "      <td>0</td>\n",
       "      <td>0</td>\n",
       "      <td>0</td>\n",
       "      <td>0</td>\n",
       "      <td>...</td>\n",
       "      <td>0.10</td>\n",
       "      <td>0.05</td>\n",
       "      <td>0.00</td>\n",
       "      <td>0.00</td>\n",
       "      <td>1.00</td>\n",
       "      <td>1.00</td>\n",
       "      <td>0.00</td>\n",
       "      <td>0.00</td>\n",
       "      <td>neptune</td>\n",
       "      <td>19</td>\n",
       "    </tr>\n",
       "    <tr>\n",
       "      <th>3</th>\n",
       "      <td>0</td>\n",
       "      <td>tcp</td>\n",
       "      <td>http</td>\n",
       "      <td>SF</td>\n",
       "      <td>232</td>\n",
       "      <td>8153</td>\n",
       "      <td>0</td>\n",
       "      <td>0</td>\n",
       "      <td>0</td>\n",
       "      <td>0</td>\n",
       "      <td>...</td>\n",
       "      <td>1.00</td>\n",
       "      <td>0.00</td>\n",
       "      <td>0.03</td>\n",
       "      <td>0.04</td>\n",
       "      <td>0.03</td>\n",
       "      <td>0.01</td>\n",
       "      <td>0.00</td>\n",
       "      <td>0.01</td>\n",
       "      <td>normal</td>\n",
       "      <td>21</td>\n",
       "    </tr>\n",
       "    <tr>\n",
       "      <th>4</th>\n",
       "      <td>0</td>\n",
       "      <td>tcp</td>\n",
       "      <td>http</td>\n",
       "      <td>SF</td>\n",
       "      <td>199</td>\n",
       "      <td>420</td>\n",
       "      <td>0</td>\n",
       "      <td>0</td>\n",
       "      <td>0</td>\n",
       "      <td>0</td>\n",
       "      <td>...</td>\n",
       "      <td>1.00</td>\n",
       "      <td>0.00</td>\n",
       "      <td>0.00</td>\n",
       "      <td>0.00</td>\n",
       "      <td>0.00</td>\n",
       "      <td>0.00</td>\n",
       "      <td>0.00</td>\n",
       "      <td>0.00</td>\n",
       "      <td>normal</td>\n",
       "      <td>21</td>\n",
       "    </tr>\n",
       "  </tbody>\n",
       "</table>\n",
       "<p>5 rows × 43 columns</p>\n",
       "</div>"
      ],
      "text/plain": [
       "   duration protocol_type   service flag  src_bytes  dst_bytes  land  \\\n",
       "0         0           tcp  ftp_data   SF        491          0     0   \n",
       "1         0           udp     other   SF        146          0     0   \n",
       "2         0           tcp   private   S0          0          0     0   \n",
       "3         0           tcp      http   SF        232       8153     0   \n",
       "4         0           tcp      http   SF        199        420     0   \n",
       "\n",
       "   wrong_fragment  urgent  hot           ...             \\\n",
       "0               0       0    0           ...              \n",
       "1               0       0    0           ...              \n",
       "2               0       0    0           ...              \n",
       "3               0       0    0           ...              \n",
       "4               0       0    0           ...              \n",
       "\n",
       "   dst_host_same_srv_rate  dst_host_diff_srv_rate  \\\n",
       "0                    0.17                    0.03   \n",
       "1                    0.00                    0.60   \n",
       "2                    0.10                    0.05   \n",
       "3                    1.00                    0.00   \n",
       "4                    1.00                    0.00   \n",
       "\n",
       "   dst_host_same_src_port_rate  dst_host_srv_diff_host_rate  \\\n",
       "0                         0.17                         0.00   \n",
       "1                         0.88                         0.00   \n",
       "2                         0.00                         0.00   \n",
       "3                         0.03                         0.04   \n",
       "4                         0.00                         0.00   \n",
       "\n",
       "   dst_host_serror_rate  dst_host_srv_serror_rate  dst_host_rerror_rate  \\\n",
       "0                  0.00                      0.00                  0.05   \n",
       "1                  0.00                      0.00                  0.00   \n",
       "2                  1.00                      1.00                  0.00   \n",
       "3                  0.03                      0.01                  0.00   \n",
       "4                  0.00                      0.00                  0.00   \n",
       "\n",
       "   dst_host_srv_rerror_rate  attack_type  no_correctly_classified  \n",
       "0                      0.00       normal                       20  \n",
       "1                      0.00       normal                       15  \n",
       "2                      0.00      neptune                       19  \n",
       "3                      0.01       normal                       21  \n",
       "4                      0.00       normal                       21  \n",
       "\n",
       "[5 rows x 43 columns]"
      ]
     },
     "execution_count": 15,
     "metadata": {},
     "output_type": "execute_result"
    }
   ],
   "source": [
    "df_ST.head()"
   ]
  },
  {
   "cell_type": "code",
   "execution_count": 25,
   "metadata": {
    "collapsed": false
   },
   "outputs": [
    {
     "data": {
      "text/plain": [
       "3"
      ]
     },
     "execution_count": 25,
     "metadata": {},
     "output_type": "execute_result"
    }
   ],
   "source": [
    "df_ST['protocol_type'].nunique()"
   ]
  },
  {
   "cell_type": "code",
   "execution_count": 24,
   "metadata": {
    "collapsed": false
   },
   "outputs": [
    {
     "data": {
      "text/plain": [
       "tcp     839\n",
       "udp     109\n",
       "icmp     63\n",
       "Name: protocol_type, dtype: int64"
      ]
     },
     "execution_count": 24,
     "metadata": {},
     "output_type": "execute_result"
    }
   ],
   "source": [
    "df_ST['protocol_type'].value_counts()"
   ]
  },
  {
   "cell_type": "code",
   "execution_count": 26,
   "metadata": {
    "collapsed": false
   },
   "outputs": [
    {
     "data": {
      "text/plain": [
       "58"
      ]
     },
     "execution_count": 26,
     "metadata": {},
     "output_type": "execute_result"
    }
   ],
   "source": [
    "df_ST['service'].nunique()"
   ]
  },
  {
   "cell_type": "code",
   "execution_count": 18,
   "metadata": {
    "collapsed": false
   },
   "outputs": [
    {
     "data": {
      "text/plain": [
       "http           308\n",
       "private        171\n",
       "domain_u        59\n",
       "ftp_data        57\n",
       "smtp            57\n",
       "eco_i           39\n",
       "other           36\n",
       "telnet          28\n",
       "finger          19\n",
       "ecr_i           19\n",
       "ftp             17\n",
       "uucp            10\n",
       "bgp              9\n",
       "Z39_50           9\n",
       "supdup           8\n",
       "csnet_ns         8\n",
       "time             7\n",
       "netbios_dgm      6\n",
       "courier          6\n",
       "imap4            6\n",
       "whois            6\n",
       "uucp_path        6\n",
       "vmnet            6\n",
       "auth             6\n",
       "iso_tsap         6\n",
       "echo             5\n",
       "gopher           5\n",
       "netbios_ns       5\n",
       "urp_i            5\n",
       "hostnames        5\n",
       "domain           5\n",
       "exec             5\n",
       "login            5\n",
       "mtp              5\n",
       "discard          4\n",
       "ldap             4\n",
       "klogin           3\n",
       "ctf              3\n",
       "name             3\n",
       "ssh              3\n",
       "link             3\n",
       "nntp             3\n",
       "sql_net          3\n",
       "efs              3\n",
       "remote_job       3\n",
       "kshell           3\n",
       "systat           2\n",
       "http_443         2\n",
       "IRC              2\n",
       "daytime          2\n",
       "netstat          2\n",
       "sunrpc           2\n",
       "shell            2\n",
       "pop_3            1\n",
       "pop_2            1\n",
       "ntp_u            1\n",
       "nnsp             1\n",
       "printer          1\n",
       "Name: service, dtype: int64"
      ]
     },
     "execution_count": 18,
     "metadata": {},
     "output_type": "execute_result"
    }
   ],
   "source": [
    "df_ST['service'].value_counts()"
   ]
  },
  {
   "cell_type": "code",
   "execution_count": 27,
   "metadata": {
    "collapsed": false
   },
   "outputs": [
    {
     "data": {
      "text/plain": [
       "7"
      ]
     },
     "execution_count": 27,
     "metadata": {},
     "output_type": "execute_result"
    }
   ],
   "source": [
    "df_ST['flag'].nunique()"
   ]
  },
  {
   "cell_type": "code",
   "execution_count": 19,
   "metadata": {
    "collapsed": false
   },
   "outputs": [
    {
     "data": {
      "text/plain": [
       "SF      584\n",
       "S0      290\n",
       "REJ      91\n",
       "RSTR     27\n",
       "RSTO     14\n",
       "S1        3\n",
       "SH        2\n",
       "Name: flag, dtype: int64"
      ]
     },
     "execution_count": 19,
     "metadata": {},
     "output_type": "execute_result"
    }
   ],
   "source": [
    "df_ST['flag'].value_counts()"
   ]
  },
  {
   "cell_type": "code",
   "execution_count": null,
   "metadata": {
    "collapsed": true
   },
   "outputs": [],
   "source": [
    "\"\"\"\n",
    "Creating boolean variables for all the 3 categorical variables namely protocol_type (3), service (58) and flag (7)\n",
    "\"\"\"\n",
    "\n",
    "#1.1 is_protocol_tcp\n",
    "def is_protocol_tcp(protocol_type):\n",
    "    if protocol_type.strip() == 'tcp':\n",
    "        return 1\n",
    "    else:\n",
    "        return 0\n",
    "\n",
    "#1.2 is_protocol_udp\n",
    "def is_protocol_udp(protocol_type):\n",
    "    if protocol_type.strip() == 'udp':\n",
    "        return 1\n",
    "    else:\n",
    "        return 0\n",
    "    \n",
    "#1.3 is_protocol_icmp\n",
    "def is_protocol_icmp(protocol_type):\n",
    "    if protocol_type.strip() == 'icmp':\n",
    "        return 1\n",
    "    else:\n",
    "        return 0\n",
    "    \n",
    "#2.1 is_service_http\n",
    "def is_service_hppt(service):\n",
    "    if service.strip() == 'http':\n",
    "        return 1\n",
    "    else:\n",
    "        return 0\n",
    "\n",
    "#2.2 is_service_private\n",
    "def is_service_hppt(service):\n",
    "    if service.strip() == 'private':\n",
    "        return 1\n",
    "    else:\n",
    "        return 0\n",
    "\n",
    "#2.3 is_service_domain_u\n",
    "def is_service_domain_u(service):\n",
    "    if service.strip() == 'domain_u':\n",
    "        return 1\n",
    "    else:\n",
    "        return 0  \n",
    "\n",
    "#2.4 is_service_ftp_data\n",
    "def is_service_ftp_data(service):\n",
    "    if service.strip() == 'ftp_data':\n",
    "        return 1\n",
    "    else:\n",
    "        return 0\n",
    "    \n",
    "#2.5 is_service_smtp\n",
    "def is_service_smtp(service):\n",
    "    if service.strip() == 'smtp':\n",
    "        return 1\n",
    "    else:\n",
    "        return 0\n",
    "\n",
    "#2.6 is_service_eco_i\n",
    "def is_service_eco_i(service):\n",
    "    if service.strip() == 'eco_i':\n",
    "        return 1\n",
    "    else:\n",
    "        return 0 \n",
    "    \n",
    "#2.7 is_service_other \n",
    "def is_service_other(service):\n",
    "    if service.strip() == 'other':\n",
    "        return 1\n",
    "    else:\n",
    "        return 0\n",
    "    \n",
    "#2.8 is_service_telnet \n",
    "def is_service_telnet(service):\n",
    "    if service.strip() == 'telnet':\n",
    "        return 1\n",
    "    else:\n",
    "        return 0\n",
    "    \n",
    "#2.9 is_service_finger \n",
    "def is_service_finger(service):\n",
    "    if service.strip() == 'finger':\n",
    "        return 1\n",
    "    else:\n",
    "        return 0\n",
    "    \n",
    "#2.10 is_service_ecr_i  \n",
    "def is_service_ecr_i(service):\n",
    "    if service.strip() == 'ecr_i':\n",
    "        return 1\n",
    "    else:\n",
    "        return 0\n",
    "    \n",
    "#2.11 is_service_ftp  \n",
    "def is_service_ftp(service):\n",
    "    if service.strip() == 'ftp':\n",
    "        return 1\n",
    "    else:\n",
    "        return 0\n",
    "    \n",
    "#2.12 is_service_uucp \n",
    "def is_service_uucp(service):\n",
    "    if service.strip() == 'uucp':\n",
    "        return 1\n",
    "    else:\n",
    "        return 0\n"
   ]
  }
 ],
 "metadata": {
  "kernelspec": {
   "display_name": "Python 2",
   "language": "python",
   "name": "python2"
  },
  "language_info": {
   "codemirror_mode": {
    "name": "ipython",
    "version": 2
   },
   "file_extension": ".py",
   "mimetype": "text/x-python",
   "name": "python",
   "nbconvert_exporter": "python",
   "pygments_lexer": "ipython2",
   "version": "2.7.12"
  }
 },
 "nbformat": 4,
 "nbformat_minor": 0
}
