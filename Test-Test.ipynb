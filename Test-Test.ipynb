{
 "cells": [
  {
   "cell_type": "code",
   "execution_count": 1,
   "metadata": {
    "collapsed": false
   },
   "outputs": [
    {
     "data": {
      "text/plain": [
       "'\\nMain program implementing reinforcement learning for anomaly detection in KDD NSL Dataset\\nAuthor @hari.koduvely\\nDate Jan 2018\\n'"
      ]
     },
     "execution_count": 1,
     "metadata": {},
     "output_type": "execute_result"
    }
   ],
   "source": [
    "\"\"\"\n",
    "Main program implementing reinforcement learning for anomaly detection in KDD NSL Dataset\n",
    "Author @hari.koduvely\n",
    "Date Jan 2018\n",
    "\"\"\""
   ]
  },
  {
   "cell_type": "code",
   "execution_count": 1,
   "metadata": {
    "collapsed": false
   },
   "outputs": [
    {
     "name": "stderr",
     "output_type": "stream",
     "text": [
      "[2018-01-25 15:08:48,964] Making new env: NetworkIntrusion-v0\n"
     ]
    }
   ],
   "source": [
    "import gym\n",
    "env = gym.make('NetworkIntrusion-v0')"
   ]
  },
  {
   "cell_type": "code",
   "execution_count": 2,
   "metadata": {
    "collapsed": false
   },
   "outputs": [
    {
     "name": "stderr",
     "output_type": "stream",
     "text": [
      "Couldn't import dot_parser, loading of dot files will not be possible.\n"
     ]
    }
   ],
   "source": [
    "import tensorflow as tf\n",
    "from tensorflow.contrib.layers import fully_connected\n",
    "import numpy as np\n",
    "import pandas as pd\n",
    "import time"
   ]
  },
  {
   "cell_type": "code",
   "execution_count": 3,
   "metadata": {
    "collapsed": false
   },
   "outputs": [],
   "source": [
    "# 1. Specify the NN Architecture\n",
    "n_inputs = 226 # == env.observation_space.shape[0]\n",
    "n_hidden = 10\n",
    "n_outputs = 1 # prob of accelerating left\n",
    "initializer = tf.contrib.layers.variance_scaling_initializer()\n",
    "\n",
    "# 2. Build the NN\n",
    "X = tf.placeholder(tf.float32, shape=[None, n_inputs])\n",
    "hidden = fully_connected(X, n_hidden, activation_fn=tf.nn.elu, weights_initializer=initializer)\n",
    "logits = fully_connected(hidden, n_outputs, activation_fn=None, weights_initializer=initializer)\n",
    "outputs = tf.nn.sigmoid(logits)\n",
    "\n",
    "#3. Select a random action based on the estimated probabilities\n",
    "p_yes_and_no = tf.concat(values=[outputs, 1 - outputs], axis=1)\n",
    "action = tf.multinomial(tf.log(p_yes_and_no), num_samples=1)\n",
    "\n",
    "init=tf.global_variables_initializer()"
   ]
  },
  {
   "cell_type": "code",
   "execution_count": 4,
   "metadata": {
    "collapsed": false
   },
   "outputs": [],
   "source": [
    "# Setting up the training of the NN Using Policy Gradient\n",
    "\n",
    "y = 1.0 - tf.to_float(action) # target probability is 1 when action is 0 and 0 when action is 1\n",
    "learning_rate = 0.01\n",
    "cross_entropy = tf.nn.sigmoid_cross_entropy_with_logits(logits=logits, labels=y)\n",
    "optimizer = tf.train.AdamOptimizer(learning_rate)\n",
    "grads_and_vars = optimizer.compute_gradients(cross_entropy)\n",
    "gradients = [grad for grad, variable in grads_and_vars]\n",
    "gradient_placeholders = []\n",
    "grads_and_vars_feed = []\n",
    "for grad, variable in grads_and_vars:\n",
    "    gradient_placeholder = tf.placeholder(tf.float32)\n",
    "    gradient_placeholders.append(gradient_placeholder)\n",
    "    grads_and_vars_feed.append((gradient_placeholder, variable))\n",
    "    \n",
    "training_op = optimizer.apply_gradients(grads_and_vars_feed)\n",
    "\n",
    "init = tf.global_variables_initializer()\n",
    "saver = tf.train.Saver()\n",
    "\n",
    "#Function to compute the total discounted rewards given the raw rewards\n",
    "def discount_rewards(rewards, discount_rate):\n",
    "    discounted_rewards = np.empty(len(rewards))\n",
    "    cumulative_rewards = 0\n",
    "    for step in reversed(range(len(rewards))):\n",
    "        cumulative_rewards = rewards[step] + discount_rate * cumulative_rewards\n",
    "        discounted_rewards[step] = cumulative_rewards\n",
    "    return discounted_rewards\n",
    "\n",
    "def discount_and_normalize_rewards(all_rewards, discount_rate):\n",
    "    all_discounted_rewards = [discount_rewards(rewards, discount_rate) for rewards in all_rewards]\n",
    "    flat_rewards = np.concatenate(all_discounted_rewards)\n",
    "    reward_mean = flat_rewards.mean()\n",
    "    reward_std = flat_rewards.std()\n",
    "    return [(discounted_rewards - reward_mean)/reward_std for discounted_rewards in all_discounted_rewards]"
   ]
  },
  {
   "cell_type": "code",
   "execution_count": 5,
   "metadata": {
    "collapsed": true
   },
   "outputs": [],
   "source": [
    "\"\"\"\n",
    "n_iterations = 250 # number of training iterations\n",
    "n_max_steps = 1000 # max steps per episode\n",
    "n_games_per_update = 10 # train the policy every 10 episodes\n",
    "save_iterations = 10 # save the model every 10 training iterations\n",
    "discount_rate = 0.95\n",
    "\"\"\"\n",
    "n_iterations = 10 # number of training iterations\n",
    "n_max_steps = 100 # max steps per episode\n",
    "n_games_per_update = 10 # train the policy every 10 episodes\n",
    "save_iterations = 10 # save the model every 10 training iterations\n",
    "discount_rate = 0.95"
   ]
  },
  {
   "cell_type": "code",
   "execution_count": 6,
   "metadata": {
    "collapsed": false
   },
   "outputs": [
    {
     "name": "stdout",
     "output_type": "stream",
     "text": [
      "Traning Time: 411.271097898Secs\n"
     ]
    }
   ],
   "source": [
    "# Executing the graph\n",
    "t_start = time.time()\n",
    "with tf.Session() as sess:\n",
    "    init.run()\n",
    "    for iteration in range(n_iterations):\n",
    "        all_rewards = [] # all sequences of raw rewards for each episode\n",
    "        all_gradients = [] # gradients saved at each step of each episode\n",
    "        for game in range(n_games_per_update):\n",
    "            current_rewards = [] # all raw rewards for the current episode\n",
    "            current_gradients = [] # all gradients from the current episode\n",
    "            obs = env.reset()\n",
    "            for step in range(n_max_steps):\n",
    "                action_val, gradients_val = sess.run([action, gradients], feed_dict={X: np.array(list(obs)).reshape(1, n_inputs)})\n",
    "                obs, reward, done, info = env.step(action_val[0][0])\n",
    "                current_rewards.append(reward)\n",
    "                current_gradients.append(gradients_val)\n",
    "                if done:\n",
    "                    break\n",
    "            all_rewards.append(current_rewards)\n",
    "            all_gradients.append(current_gradients)\n",
    "            \n",
    "            # Perform a Policy Update after running the policy for 10 episodes\n",
    "            all_rewards = discount_and_normalize_rewards(all_rewards, discount_rate)\n",
    "            feed_dict = {}\n",
    "            for var_index, grad_placeholder in enumerate(gradient_placeholders):\n",
    "                # Multiply the gradients by the action scores and compute the mean\n",
    "                mean_gradients = np.mean([reward * all_gradients[game_index][step][var_index]\n",
    "                                         for game_index, rewards in enumerate(all_rewards)\n",
    "                                         for step, reward in enumerate(rewards)], axis=0)\n",
    "                feed_dict[grad_placeholder] = mean_gradients\n",
    "                \n",
    "            sess.run(training_op, feed_dict=feed_dict)\n",
    "            if iteration % save_iterations == 0:\n",
    "                save_path = saver.save(sess, '/Users/harikoduvely/Projects/RL/DataSets/NSL_KDD_CKPT/nsl_kdd_qlearning_3.ckpt')\n",
    "t_end = time.time()\n",
    "print(\"Traning Time: \" + str(t_end - t_start) + \"Secs\")"
   ]
  },
  {
   "cell_type": "code",
   "execution_count": 29,
   "metadata": {
    "collapsed": false,
    "scrolled": false
   },
   "outputs": [
    {
     "name": "stdout",
     "output_type": "stream",
     "text": [
      "INFO:tensorflow:Restoring parameters from /Users/harikoduvely/Projects/RL/DataSets/NSL_KDD_CKPT/nsl_kdd_qlearning_3.ckpt\n"
     ]
    },
    {
     "name": "stderr",
     "output_type": "stream",
     "text": [
      "[2018-01-25 16:40:58,419] Restoring parameters from /Users/harikoduvely/Projects/RL/DataSets/NSL_KDD_CKPT/nsl_kdd_qlearning_3.ckpt\n"
     ]
    },
    {
     "ename": "ZeroDivisionError",
     "evalue": "integer division or modulo by zero",
     "output_type": "error",
     "traceback": [
      "\u001b[0;31m---------------------------------------------------------------------------\u001b[0m",
      "\u001b[0;31mZeroDivisionError\u001b[0m                         Traceback (most recent call last)",
      "\u001b[0;32m<ipython-input-29-c771897b1f82>\u001b[0m in \u001b[0;36m<module>\u001b[0;34m()\u001b[0m\n\u001b[1;32m     40\u001b[0m     \u001b[0;31m# Saving the dataframe to a pickle file in directory DataSets\u001b[0m\u001b[0;34m\u001b[0m\u001b[0;34m\u001b[0m\u001b[0m\n\u001b[1;32m     41\u001b[0m     \u001b[0mdf_pred\u001b[0m\u001b[0;34m.\u001b[0m\u001b[0mto_pickle\u001b[0m\u001b[0;34m(\u001b[0m\u001b[0;34m'/Users/harikoduvely/Projects/RL/DataSets/NSL_KDD_PKL/kdd_nsl_train_results.pkl'\u001b[0m\u001b[0;34m)\u001b[0m\u001b[0;34m\u001b[0m\u001b[0m\n\u001b[0;32m---> 42\u001b[0;31m     \u001b[0mprecision\u001b[0m \u001b[0;34m=\u001b[0m \u001b[0mtp\u001b[0m\u001b[0;34m/\u001b[0m\u001b[0;34m(\u001b[0m\u001b[0mtp\u001b[0m \u001b[0;34m+\u001b[0m \u001b[0mfp\u001b[0m\u001b[0;34m)\u001b[0m\u001b[0;34m\u001b[0m\u001b[0m\n\u001b[0m\u001b[1;32m     43\u001b[0m     \u001b[0mrecall\u001b[0m \u001b[0;34m=\u001b[0m \u001b[0mtp\u001b[0m\u001b[0;34m/\u001b[0m\u001b[0;34m(\u001b[0m\u001b[0mtp\u001b[0m \u001b[0;34m+\u001b[0m \u001b[0mfn\u001b[0m\u001b[0;34m)\u001b[0m\u001b[0;34m\u001b[0m\u001b[0m\n\u001b[1;32m     44\u001b[0m     \u001b[0;32mprint\u001b[0m \u001b[0;34m\"precision: \"\u001b[0m\u001b[0;34m,\u001b[0m \u001b[0mprecision\u001b[0m\u001b[0;34m\u001b[0m\u001b[0m\n",
      "\u001b[0;31mZeroDivisionError\u001b[0m: integer division or modulo by zero"
     ]
    }
   ],
   "source": [
    "# Evaluation of the results\n",
    "n_max_steps = 1000\n",
    "o_list = []\n",
    "p_list = []\n",
    "a_list = []\n",
    "y_list = []\n",
    "saver = tf.train.Saver()\n",
    "with tf.Session() as sess:\n",
    "    saver.restore(sess,'/Users/harikoduvely/Projects/RL/DataSets/NSL_KDD_CKPT/nsl_kdd_qlearning_3.ckpt')\n",
    "    # load test dataset into a Pandas DataFrame\n",
    "    df = pd.read_pickle('/Users/harikoduvely/Projects/RL/DataSets/NSL_KDD_PKL/kdd_nsl_train_onehot_string.pkl')\n",
    "    init.run()\n",
    "    tp = 0\n",
    "    fp = 0\n",
    "    tn = 0\n",
    "    fn = 0\n",
    "    for step in range(n_max_steps):\n",
    "        obs = df.iloc[step]['s']\n",
    "        y = df.iloc[step]['y']\n",
    "        outputs = logits.eval(feed_dict={X: np.array(list(obs)).reshape(1, n_inputs)})\n",
    "        p_yes_and_no = tf.concat(values=[outputs, 1 - outputs], axis=1)\n",
    "        py = p_yes_and_no.eval()\n",
    "        action = tf.multinomial(tf.log(p_yes_and_no), num_samples=1)\n",
    "        act = action.eval()\n",
    "        o_list.append(obs)\n",
    "        p_list.append(py[0][0])\n",
    "        a_list.append(act[0][0])\n",
    "        y_list.append(y) \n",
    "        \n",
    "    df_pred = pd.DataFrame({'obs':o_list,'pred':p_list, 'action':a_list, 'y':y_list})\n",
    "    # Saving the dataframe to a pickle file in directory DataSets\n",
    "    df_pred.to_pickle('/Users/harikoduvely/Projects/RL/DataSets/NSL_KDD_PKL/kdd_nsl_train_results.pkl')"
   ]
  },
  {
   "cell_type": "code",
   "execution_count": 27,
   "metadata": {
    "collapsed": false
   },
   "outputs": [
    {
     "data": {
      "text/html": [
       "<div>\n",
       "<table border=\"1\" class=\"dataframe\">\n",
       "  <thead>\n",
       "    <tr style=\"text-align: right;\">\n",
       "      <th></th>\n",
       "      <th>action</th>\n",
       "      <th>obs</th>\n",
       "      <th>pred</th>\n",
       "      <th>y</th>\n",
       "    </tr>\n",
       "  </thead>\n",
       "  <tbody>\n",
       "    <tr>\n",
       "      <th>0</th>\n",
       "      <td>Tensor(\"multinomial_2001/Multinomial:0\", shape...</td>\n",
       "      <td>1000010001001110001000010010010000110000110000...</td>\n",
       "      <td>0.038880</td>\n",
       "      <td>-1.0</td>\n",
       "    </tr>\n",
       "    <tr>\n",
       "      <th>1</th>\n",
       "      <td>Tensor(\"multinomial_2002/Multinomial:0\", shape...</td>\n",
       "      <td>1000010001001110001000010010010000110000110000...</td>\n",
       "      <td>-0.413541</td>\n",
       "      <td>-1.0</td>\n",
       "    </tr>\n",
       "    <tr>\n",
       "      <th>2</th>\n",
       "      <td>Tensor(\"multinomial_2003/Multinomial:0\", shape...</td>\n",
       "      <td>1000010001001110001000010010010000110000101000...</td>\n",
       "      <td>0.135338</td>\n",
       "      <td>1.0</td>\n",
       "    </tr>\n",
       "    <tr>\n",
       "      <th>3</th>\n",
       "      <td>Tensor(\"multinomial_2004/Multinomial:0\", shape...</td>\n",
       "      <td>1000010001001110001000010010010000110000110000...</td>\n",
       "      <td>0.276748</td>\n",
       "      <td>-1.0</td>\n",
       "    </tr>\n",
       "    <tr>\n",
       "      <th>4</th>\n",
       "      <td>Tensor(\"multinomial_2005/Multinomial:0\", shape...</td>\n",
       "      <td>1000010001001110001000010010010000110000110000...</td>\n",
       "      <td>0.488189</td>\n",
       "      <td>-1.0</td>\n",
       "    </tr>\n",
       "  </tbody>\n",
       "</table>\n",
       "</div>"
      ],
      "text/plain": [
       "                                              action  \\\n",
       "0  Tensor(\"multinomial_2001/Multinomial:0\", shape...   \n",
       "1  Tensor(\"multinomial_2002/Multinomial:0\", shape...   \n",
       "2  Tensor(\"multinomial_2003/Multinomial:0\", shape...   \n",
       "3  Tensor(\"multinomial_2004/Multinomial:0\", shape...   \n",
       "4  Tensor(\"multinomial_2005/Multinomial:0\", shape...   \n",
       "\n",
       "                                                 obs      pred    y  \n",
       "0  1000010001001110001000010010010000110000110000...  0.038880 -1.0  \n",
       "1  1000010001001110001000010010010000110000110000... -0.413541 -1.0  \n",
       "2  1000010001001110001000010010010000110000101000...  0.135338  1.0  \n",
       "3  1000010001001110001000010010010000110000110000...  0.276748 -1.0  \n",
       "4  1000010001001110001000010010010000110000110000...  0.488189 -1.0  "
      ]
     },
     "execution_count": 27,
     "metadata": {},
     "output_type": "execute_result"
    }
   ],
   "source": [
    "df_pred.head()"
   ]
  },
  {
   "cell_type": "code",
   "execution_count": 30,
   "metadata": {
    "collapsed": true
   },
   "outputs": [],
   "source": [
    "df_pred = pd.read_pickle('/Users/harikoduvely/Projects/RL/DataSets/NSL_KDD_PKL/kdd_nsl_train_results.pkl')"
   ]
  },
  {
   "cell_type": "code",
   "execution_count": 33,
   "metadata": {
    "collapsed": false
   },
   "outputs": [
    {
     "data": {
      "text/html": [
       "<div>\n",
       "<table border=\"1\" class=\"dataframe\">\n",
       "  <thead>\n",
       "    <tr style=\"text-align: right;\">\n",
       "      <th></th>\n",
       "      <th>action</th>\n",
       "      <th>obs</th>\n",
       "      <th>pred</th>\n",
       "      <th>y</th>\n",
       "    </tr>\n",
       "  </thead>\n",
       "  <tbody>\n",
       "    <tr>\n",
       "      <th>0</th>\n",
       "      <td>0</td>\n",
       "      <td>1000010001001110001000010010010000110000110000...</td>\n",
       "      <td>0.916389</td>\n",
       "      <td>-1.0</td>\n",
       "    </tr>\n",
       "    <tr>\n",
       "      <th>1</th>\n",
       "      <td>0</td>\n",
       "      <td>1000010001001110001000010010010000110000110000...</td>\n",
       "      <td>0.803338</td>\n",
       "      <td>-1.0</td>\n",
       "    </tr>\n",
       "    <tr>\n",
       "      <th>2</th>\n",
       "      <td>0</td>\n",
       "      <td>1000010001001110001000010010010000110000101000...</td>\n",
       "      <td>1.705354</td>\n",
       "      <td>1.0</td>\n",
       "    </tr>\n",
       "    <tr>\n",
       "      <th>3</th>\n",
       "      <td>0</td>\n",
       "      <td>1000010001001110001000010010010000110000110000...</td>\n",
       "      <td>0.933582</td>\n",
       "      <td>-1.0</td>\n",
       "    </tr>\n",
       "    <tr>\n",
       "      <th>4</th>\n",
       "      <td>0</td>\n",
       "      <td>1000010001001110001000010010010000110000110000...</td>\n",
       "      <td>1.254855</td>\n",
       "      <td>-1.0</td>\n",
       "    </tr>\n",
       "    <tr>\n",
       "      <th>5</th>\n",
       "      <td>1</td>\n",
       "      <td>1000010001001110001000010010010000110000101000...</td>\n",
       "      <td>0.809073</td>\n",
       "      <td>1.0</td>\n",
       "    </tr>\n",
       "    <tr>\n",
       "      <th>6</th>\n",
       "      <td>0</td>\n",
       "      <td>1000010001001110001000010010010000110000101000...</td>\n",
       "      <td>1.705354</td>\n",
       "      <td>1.0</td>\n",
       "    </tr>\n",
       "    <tr>\n",
       "      <th>7</th>\n",
       "      <td>0</td>\n",
       "      <td>1000010001001110001000010010010000110000101000...</td>\n",
       "      <td>1.705354</td>\n",
       "      <td>1.0</td>\n",
       "    </tr>\n",
       "    <tr>\n",
       "      <th>8</th>\n",
       "      <td>0</td>\n",
       "      <td>1000010001001110001000010010010000110000100100...</td>\n",
       "      <td>1.543989</td>\n",
       "      <td>1.0</td>\n",
       "    </tr>\n",
       "    <tr>\n",
       "      <th>9</th>\n",
       "      <td>0</td>\n",
       "      <td>1000010001001110001000010010010000110000101000...</td>\n",
       "      <td>1.705354</td>\n",
       "      <td>1.0</td>\n",
       "    </tr>\n",
       "    <tr>\n",
       "      <th>10</th>\n",
       "      <td>0</td>\n",
       "      <td>1000010001001110001000010010010000110000100100...</td>\n",
       "      <td>0.751668</td>\n",
       "      <td>1.0</td>\n",
       "    </tr>\n",
       "    <tr>\n",
       "      <th>11</th>\n",
       "      <td>0</td>\n",
       "      <td>1000010001001110001000010010010000110000101000...</td>\n",
       "      <td>1.705354</td>\n",
       "      <td>1.0</td>\n",
       "    </tr>\n",
       "    <tr>\n",
       "      <th>12</th>\n",
       "      <td>0</td>\n",
       "      <td>1000010001001110001000010010010000110000110000...</td>\n",
       "      <td>1.175340</td>\n",
       "      <td>-1.0</td>\n",
       "    </tr>\n",
       "    <tr>\n",
       "      <th>13</th>\n",
       "      <td>0</td>\n",
       "      <td>1000010001001110001000010010010000110000110000...</td>\n",
       "      <td>0.896472</td>\n",
       "      <td>1.0</td>\n",
       "    </tr>\n",
       "    <tr>\n",
       "      <th>14</th>\n",
       "      <td>0</td>\n",
       "      <td>1000010001001110001000010010010000110000100100...</td>\n",
       "      <td>1.303137</td>\n",
       "      <td>1.0</td>\n",
       "    </tr>\n",
       "    <tr>\n",
       "      <th>15</th>\n",
       "      <td>0</td>\n",
       "      <td>1000010001001110001000010010010000110000110000...</td>\n",
       "      <td>1.805340</td>\n",
       "      <td>1.0</td>\n",
       "    </tr>\n",
       "    <tr>\n",
       "      <th>16</th>\n",
       "      <td>0</td>\n",
       "      <td>1000010001001110001000010010010000110000110000...</td>\n",
       "      <td>1.178953</td>\n",
       "      <td>-1.0</td>\n",
       "    </tr>\n",
       "    <tr>\n",
       "      <th>17</th>\n",
       "      <td>0</td>\n",
       "      <td>1000010001001110001000010010010000110000110000...</td>\n",
       "      <td>0.779732</td>\n",
       "      <td>1.0</td>\n",
       "    </tr>\n",
       "    <tr>\n",
       "      <th>18</th>\n",
       "      <td>0</td>\n",
       "      <td>1000010001001110001000010010010000110000110000...</td>\n",
       "      <td>1.143817</td>\n",
       "      <td>-1.0</td>\n",
       "    </tr>\n",
       "    <tr>\n",
       "      <th>19</th>\n",
       "      <td>0</td>\n",
       "      <td>1000010001001110001000010010010000110000110000...</td>\n",
       "      <td>1.121368</td>\n",
       "      <td>-1.0</td>\n",
       "    </tr>\n",
       "  </tbody>\n",
       "</table>\n",
       "</div>"
      ],
      "text/plain": [
       "    action                                                obs      pred    y\n",
       "0        0  1000010001001110001000010010010000110000110000...  0.916389 -1.0\n",
       "1        0  1000010001001110001000010010010000110000110000...  0.803338 -1.0\n",
       "2        0  1000010001001110001000010010010000110000101000...  1.705354  1.0\n",
       "3        0  1000010001001110001000010010010000110000110000...  0.933582 -1.0\n",
       "4        0  1000010001001110001000010010010000110000110000...  1.254855 -1.0\n",
       "5        1  1000010001001110001000010010010000110000101000...  0.809073  1.0\n",
       "6        0  1000010001001110001000010010010000110000101000...  1.705354  1.0\n",
       "7        0  1000010001001110001000010010010000110000101000...  1.705354  1.0\n",
       "8        0  1000010001001110001000010010010000110000100100...  1.543989  1.0\n",
       "9        0  1000010001001110001000010010010000110000101000...  1.705354  1.0\n",
       "10       0  1000010001001110001000010010010000110000100100...  0.751668  1.0\n",
       "11       0  1000010001001110001000010010010000110000101000...  1.705354  1.0\n",
       "12       0  1000010001001110001000010010010000110000110000...  1.175340 -1.0\n",
       "13       0  1000010001001110001000010010010000110000110000...  0.896472  1.0\n",
       "14       0  1000010001001110001000010010010000110000100100...  1.303137  1.0\n",
       "15       0  1000010001001110001000010010010000110000110000...  1.805340  1.0\n",
       "16       0  1000010001001110001000010010010000110000110000...  1.178953 -1.0\n",
       "17       0  1000010001001110001000010010010000110000110000...  0.779732  1.0\n",
       "18       0  1000010001001110001000010010010000110000110000...  1.143817 -1.0\n",
       "19       0  1000010001001110001000010010010000110000110000...  1.121368 -1.0"
      ]
     },
     "execution_count": 33,
     "metadata": {},
     "output_type": "execute_result"
    }
   ],
   "source": [
    "df_pred.head(20)"
   ]
  },
  {
   "cell_type": "code",
   "execution_count": 32,
   "metadata": {
    "collapsed": false
   },
   "outputs": [
    {
     "data": {
      "text/plain": [
       "0    903\n",
       "1     97\n",
       "Name: action, dtype: int64"
      ]
     },
     "execution_count": 32,
     "metadata": {},
     "output_type": "execute_result"
    }
   ],
   "source": [
    "df_pred['action'].value_counts()"
   ]
  },
  {
   "cell_type": "code",
   "execution_count": 38,
   "metadata": {
    "collapsed": false
   },
   "outputs": [],
   "source": [
    "lam = 0.1 * np.arange(10)"
   ]
  },
  {
   "cell_type": "code",
   "execution_count": 40,
   "metadata": {
    "collapsed": false
   },
   "outputs": [
    {
     "data": {
      "text/plain": [
       "10"
      ]
     },
     "execution_count": 40,
     "metadata": {},
     "output_type": "execute_result"
    }
   ],
   "source": [
    "lam.shape[0]"
   ]
  },
  {
   "cell_type": "code",
   "execution_count": 75,
   "metadata": {
    "collapsed": true
   },
   "outputs": [],
   "source": [
    "def generate_roc(df):\n",
    "    lamda = 0.1 * np.arange(10)\n",
    "    tpl = []\n",
    "    fpl = []\n",
    "    tnl = []\n",
    "    fnl = []\n",
    "    prl = []\n",
    "    rel = []\n",
    "    frl = []\n",
    "    for lam in lamda:\n",
    "        tp = 0.0\n",
    "        fp = 0.0\n",
    "        tn = 0.0\n",
    "        fn = 0.0\n",
    "        for i in range(df.shape[0]):\n",
    "            p = df.iloc[i]['pred']\n",
    "            y = df.iloc[i]['y']\n",
    "            y = y.astype(int)\n",
    "            if  y==1 and p>=lam:\n",
    "                tp += 1.0\n",
    "            elif y==1 and p<lam:\n",
    "                fn += 1.0\n",
    "            elif y==-1 and p>=lam:\n",
    "                fp += 1.0\n",
    "            elif y==-1 and p<lam:\n",
    "                tn += 1.0\n",
    "        pr = tp/(tp + fp + 1.0)\n",
    "        re = tp/(tp + fn + 1.0)\n",
    "        fr = fp/(tp + fp + 1.0)\n",
    "        tpl.append(tp)\n",
    "        fpl.append(fp)\n",
    "        tnl.append(tn)\n",
    "        fnl.append(fn)\n",
    "        prl.append(pr)\n",
    "        rel.append(re)\n",
    "        frl.append(fr)\n",
    "    df_lam = pd.DataFrame({'lam': lamda, 'TP': tpl, 'FP': fpl, 'TN': tnl, 'FN': fnl, 'Precision': prl, 'Recall': rel, 'FPR':frl})\n",
    "    return df_lam"
   ]
  },
  {
   "cell_type": "code",
   "execution_count": 62,
   "metadata": {
    "collapsed": false
   },
   "outputs": [],
   "source": [
    "df_in = df_pred.drop(['action','obs'], axis=1)"
   ]
  },
  {
   "cell_type": "code",
   "execution_count": 76,
   "metadata": {
    "collapsed": false
   },
   "outputs": [],
   "source": [
    "df_lam = generate_roc(df_in)"
   ]
  },
  {
   "cell_type": "code",
   "execution_count": 77,
   "metadata": {
    "collapsed": false
   },
   "outputs": [
    {
     "data": {
      "text/html": [
       "<div>\n",
       "<table border=\"1\" class=\"dataframe\">\n",
       "  <thead>\n",
       "    <tr style=\"text-align: right;\">\n",
       "      <th></th>\n",
       "      <th>FN</th>\n",
       "      <th>FP</th>\n",
       "      <th>FPR</th>\n",
       "      <th>Precision</th>\n",
       "      <th>Recall</th>\n",
       "      <th>TN</th>\n",
       "      <th>TP</th>\n",
       "      <th>lam</th>\n",
       "    </tr>\n",
       "  </thead>\n",
       "  <tbody>\n",
       "    <tr>\n",
       "      <th>0</th>\n",
       "      <td>1.0</td>\n",
       "      <td>516.0</td>\n",
       "      <td>0.516000</td>\n",
       "      <td>0.483000</td>\n",
       "      <td>0.995876</td>\n",
       "      <td>0.0</td>\n",
       "      <td>483.0</td>\n",
       "      <td>0.0</td>\n",
       "    </tr>\n",
       "    <tr>\n",
       "      <th>1</th>\n",
       "      <td>1.0</td>\n",
       "      <td>516.0</td>\n",
       "      <td>0.516000</td>\n",
       "      <td>0.483000</td>\n",
       "      <td>0.995876</td>\n",
       "      <td>0.0</td>\n",
       "      <td>483.0</td>\n",
       "      <td>0.1</td>\n",
       "    </tr>\n",
       "    <tr>\n",
       "      <th>2</th>\n",
       "      <td>2.0</td>\n",
       "      <td>515.0</td>\n",
       "      <td>0.516032</td>\n",
       "      <td>0.482966</td>\n",
       "      <td>0.993814</td>\n",
       "      <td>1.0</td>\n",
       "      <td>482.0</td>\n",
       "      <td>0.2</td>\n",
       "    </tr>\n",
       "    <tr>\n",
       "      <th>3</th>\n",
       "      <td>7.0</td>\n",
       "      <td>514.0</td>\n",
       "      <td>0.518145</td>\n",
       "      <td>0.480847</td>\n",
       "      <td>0.983505</td>\n",
       "      <td>2.0</td>\n",
       "      <td>477.0</td>\n",
       "      <td>0.3</td>\n",
       "    </tr>\n",
       "    <tr>\n",
       "      <th>4</th>\n",
       "      <td>18.0</td>\n",
       "      <td>509.0</td>\n",
       "      <td>0.521516</td>\n",
       "      <td>0.477459</td>\n",
       "      <td>0.960825</td>\n",
       "      <td>7.0</td>\n",
       "      <td>466.0</td>\n",
       "      <td>0.4</td>\n",
       "    </tr>\n",
       "    <tr>\n",
       "      <th>5</th>\n",
       "      <td>25.0</td>\n",
       "      <td>494.0</td>\n",
       "      <td>0.517820</td>\n",
       "      <td>0.481132</td>\n",
       "      <td>0.946392</td>\n",
       "      <td>22.0</td>\n",
       "      <td>459.0</td>\n",
       "      <td>0.5</td>\n",
       "    </tr>\n",
       "    <tr>\n",
       "      <th>6</th>\n",
       "      <td>45.0</td>\n",
       "      <td>477.0</td>\n",
       "      <td>0.520174</td>\n",
       "      <td>0.478735</td>\n",
       "      <td>0.905155</td>\n",
       "      <td>39.0</td>\n",
       "      <td>439.0</td>\n",
       "      <td>0.6</td>\n",
       "    </tr>\n",
       "    <tr>\n",
       "      <th>7</th>\n",
       "      <td>82.0</td>\n",
       "      <td>451.0</td>\n",
       "      <td>0.528103</td>\n",
       "      <td>0.470726</td>\n",
       "      <td>0.828866</td>\n",
       "      <td>65.0</td>\n",
       "      <td>402.0</td>\n",
       "      <td>0.7</td>\n",
       "    </tr>\n",
       "    <tr>\n",
       "      <th>8</th>\n",
       "      <td>111.0</td>\n",
       "      <td>413.0</td>\n",
       "      <td>0.524778</td>\n",
       "      <td>0.473952</td>\n",
       "      <td>0.769072</td>\n",
       "      <td>103.0</td>\n",
       "      <td>373.0</td>\n",
       "      <td>0.8</td>\n",
       "    </tr>\n",
       "    <tr>\n",
       "      <th>9</th>\n",
       "      <td>149.0</td>\n",
       "      <td>374.0</td>\n",
       "      <td>0.526761</td>\n",
       "      <td>0.471831</td>\n",
       "      <td>0.690722</td>\n",
       "      <td>142.0</td>\n",
       "      <td>335.0</td>\n",
       "      <td>0.9</td>\n",
       "    </tr>\n",
       "  </tbody>\n",
       "</table>\n",
       "</div>"
      ],
      "text/plain": [
       "      FN     FP       FPR  Precision    Recall     TN     TP  lam\n",
       "0    1.0  516.0  0.516000   0.483000  0.995876    0.0  483.0  0.0\n",
       "1    1.0  516.0  0.516000   0.483000  0.995876    0.0  483.0  0.1\n",
       "2    2.0  515.0  0.516032   0.482966  0.993814    1.0  482.0  0.2\n",
       "3    7.0  514.0  0.518145   0.480847  0.983505    2.0  477.0  0.3\n",
       "4   18.0  509.0  0.521516   0.477459  0.960825    7.0  466.0  0.4\n",
       "5   25.0  494.0  0.517820   0.481132  0.946392   22.0  459.0  0.5\n",
       "6   45.0  477.0  0.520174   0.478735  0.905155   39.0  439.0  0.6\n",
       "7   82.0  451.0  0.528103   0.470726  0.828866   65.0  402.0  0.7\n",
       "8  111.0  413.0  0.524778   0.473952  0.769072  103.0  373.0  0.8\n",
       "9  149.0  374.0  0.526761   0.471831  0.690722  142.0  335.0  0.9"
      ]
     },
     "execution_count": 77,
     "metadata": {},
     "output_type": "execute_result"
    }
   ],
   "source": [
    "df_lam.head(10)"
   ]
  },
  {
   "cell_type": "code",
   "execution_count": 78,
   "metadata": {
    "collapsed": true
   },
   "outputs": [],
   "source": [
    "from matplotlib import pyplot as plt"
   ]
  },
  {
   "cell_type": "code",
   "execution_count": 79,
   "metadata": {
    "collapsed": false
   },
   "outputs": [
    {
     "data": {
      "text/plain": [
       "[<matplotlib.lines.Line2D at 0x13fe044d0>]"
      ]
     },
     "execution_count": 79,
     "metadata": {},
     "output_type": "execute_result"
    }
   ],
   "source": [
    "plt.plot(df_lam['FPR'],df_lam['Recall'])"
   ]
  },
  {
   "cell_type": "code",
   "execution_count": 80,
   "metadata": {
    "collapsed": false
   },
   "outputs": [
    {
     "data": {
      "image/png": "[encoded data removed]",
      "text/plain": [
       "<matplotlib.figure.Figure at 0x13fce0b10>"
      ]
     },
     "metadata": {},
     "output_type": "display_data"
    }
   ],
   "source": [
    "plt.show()"
   ]
  },
  {
   "cell_type": "code",
   "execution_count": null,
   "metadata": {
    "collapsed": true
   },
   "outputs": [],
   "source": []
  }
 ],
 "metadata": {
  "kernelspec": {
   "display_name": "Python 2",
   "language": "python",
   "name": "python2"
  },
  "language_info": {
   "codemirror_mode": {
    "name": "ipython",
    "version": 2
   },
   "file_extension": ".py",
   "mimetype": "text/x-python",
   "name": "python",
   "nbconvert_exporter": "python",
   "pygments_lexer": "ipython2",
   "version": "2.7.13"
  }
 },
 "nbformat": 4,
 "nbformat_minor": 0
}
