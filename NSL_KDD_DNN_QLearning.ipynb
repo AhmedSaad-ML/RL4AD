{
 "cells": [
  {
   "cell_type": "code",
   "execution_count": 1,
   "metadata": {
    "collapsed": false
   },
   "outputs": [
    {
     "data": {
      "text/plain": [
       "'\\nMain program implementing reinforcement learning for anomaly detection in KDD NSL Dataset\\nAuthor @hari.koduvely\\nDate Jan 2018\\n'"
      ]
     },
     "execution_count": 1,
     "metadata": {},
     "output_type": "execute_result"
    }
   ],
   "source": [
    "\"\"\"\n",
    "Main program implementing reinforcement learning for anomaly detection in KDD NSL Dataset\n",
    "Author @hari.koduvely\n",
    "Date Jan 2018\n",
    "\"\"\""
   ]
  },
  {
   "cell_type": "code",
   "execution_count": 1,
   "metadata": {
    "collapsed": true
   },
   "outputs": [],
   "source": [
    "import sys\n",
    "import os"
   ]
  },
  {
   "cell_type": "code",
   "execution_count": 3,
   "metadata": {
    "collapsed": false
   },
   "outputs": [
    {
     "name": "stdout",
     "output_type": "stream",
     "text": [
      "\u001b[33mWARN: Environment '<class 'gym_network_intrusion.envs.network_intrusion_env_1.NetworkIntrusionEnv'>' has deprecated methods. Compatibility code invoked.\u001b[0m\n"
     ]
    }
   ],
   "source": [
    "import gym\n",
    "import gym_network_intrusion\n",
    "env = gym.make('network-intrusion-v0')\n",
    "%reload_ext autoreload\n",
    "%autoreload 2"
   ]
  },
  {
   "cell_type": "code",
   "execution_count": 4,
   "metadata": {
    "collapsed": false
   },
   "outputs": [
    {
     "name": "stderr",
     "output_type": "stream",
     "text": [
      "Couldn't import dot_parser, loading of dot files will not be possible.\n"
     ]
    }
   ],
   "source": [
    "import tensorflow as tf\n",
    "from tensorflow.contrib.layers import fully_connected\n",
    "import numpy as np\n",
    "import pandas as pd\n",
    "from matplotlib import pyplot as plt\n",
    "import time"
   ]
  },
  {
   "cell_type": "code",
   "execution_count": 5,
   "metadata": {
    "collapsed": false
   },
   "outputs": [],
   "source": [
    "# 1. Specify the NN Architecture\n",
    "n_inputs = 226 # == env.observation_space.shape[0]\n",
    "n_hidden = 10\n",
    "n_outputs = 1 # prob of accelerating left\n",
    "initializer = tf.contrib.layers.variance_scaling_initializer()\n",
    "\n",
    "# 2. Build the NN\n",
    "X = tf.placeholder(tf.float32, shape=[None, n_inputs])\n",
    "hidden = fully_connected(X, n_hidden, activation_fn=tf.nn.elu, weights_initializer=initializer)\n",
    "logits = fully_connected(hidden, n_outputs, activation_fn=None, weights_initializer=initializer)\n",
    "outputs = tf.nn.sigmoid(logits)\n",
    "\n",
    "#3. Select a random action based on the estimated probabilities\n",
    "p_yes_and_no = tf.concat(values=[outputs, 1 - outputs], axis=1)\n",
    "action = tf.multinomial(tf.log(p_yes_and_no), num_samples=1)\n",
    "\n",
    "init=tf.global_variables_initializer()"
   ]
  },
  {
   "cell_type": "code",
   "execution_count": 6,
   "metadata": {
    "collapsed": false
   },
   "outputs": [],
   "source": [
    "# Setting up the training of the NN Using Policy Gradient\n",
    "y = 1.0 - tf.to_float(action) # target probability is 1 when action is 0 and 0 when action is 1\n",
    "learning_rate = 0.01\n",
    "cross_entropy = tf.nn.sigmoid_cross_entropy_with_logits(logits=logits, labels=y)\n",
    "optimizer = tf.train.AdamOptimizer(learning_rate)\n",
    "grads_and_vars = optimizer.compute_gradients(cross_entropy)\n",
    "gradients = [grad for grad, variable in grads_and_vars]\n",
    "gradient_placeholders = []\n",
    "grads_and_vars_feed = []\n",
    "for grad, variable in grads_and_vars:\n",
    "    gradient_placeholder = tf.placeholder(tf.float32)\n",
    "    gradient_placeholders.append(gradient_placeholder)\n",
    "    grads_and_vars_feed.append((gradient_placeholder, variable))\n",
    "    \n",
    "training_op = optimizer.apply_gradients(grads_and_vars_feed)\n",
    "\n",
    "init = tf.global_variables_initializer()\n",
    "saver = tf.train.Saver()\n",
    "\n",
    "#Function to compute the total discounted rewards given the raw rewards\n",
    "def discount_rewards(rewards, discount_rate):\n",
    "    discounted_rewards = np.empty(len(rewards))\n",
    "    cumulative_rewards = 0\n",
    "    for step in reversed(range(len(rewards))):\n",
    "        cumulative_rewards = rewards[step] + discount_rate * cumulative_rewards\n",
    "        discounted_rewards[step] = cumulative_rewards\n",
    "    return discounted_rewards\n",
    "\n",
    "def discount_and_normalize_rewards(all_rewards, discount_rate):\n",
    "    all_discounted_rewards = [discount_rewards(rewards, discount_rate) for rewards in all_rewards]\n",
    "    flat_rewards = np.concatenate(all_discounted_rewards)\n",
    "    reward_mean = flat_rewards.mean()\n",
    "    reward_std = flat_rewards.std()\n",
    "    return [(discounted_rewards - reward_mean)/reward_std for discounted_rewards in all_discounted_rewards]"
   ]
  },
  {
   "cell_type": "code",
   "execution_count": 7,
   "metadata": {
    "collapsed": false
   },
   "outputs": [],
   "source": [
    "\"\"\"\n",
    "n_iterations = 250 # number of training iterations\n",
    "n_max_steps = 1000 # max steps per episode\n",
    "n_games_per_update = 10 # train the policy every 10 episodes\n",
    "save_iterations = 10 # save the model every 10 training iterations\n",
    "discount_rate = 0.95\n",
    "\"\"\"\n",
    "n_iterations = 10 # number of training iterations\n",
    "n_max_steps = 100 # max steps per episode\n",
    "n_games_per_update = 10 # train the policy every 10 episodes\n",
    "save_iterations = 10 # save the model every 10 training iterations\n",
    "discount_rate = 0.95"
   ]
  },
  {
   "cell_type": "code",
   "execution_count": 8,
   "metadata": {
    "collapsed": false
   },
   "outputs": [
    {
     "name": "stdout",
     "output_type": "stream",
     "text": [
      "Traning Time: 389.334667921Secs\n"
     ]
    }
   ],
   "source": [
    "# Executing the graph\n",
    "t_start = time.time()\n",
    "with tf.Session() as sess:\n",
    "    init.run()\n",
    "    for iteration in range(n_iterations):\n",
    "        all_rewards = [] # all sequences of raw rewards for each episode\n",
    "        all_gradients = [] # gradients saved at each step of each episode\n",
    "        for game in range(n_games_per_update):\n",
    "            current_rewards = [] # all raw rewards for the current episode\n",
    "            current_gradients = [] # all gradients from the current episode\n",
    "            obs = env.reset()\n",
    "            for step in range(n_max_steps):\n",
    "                action_val, gradients_val = sess.run([action, gradients], feed_dict={X: np.array(list(obs)).reshape(1, n_inputs)})\n",
    "                obs, reward, done, info = env.step(action_val[0][0])\n",
    "                current_rewards.append(reward)\n",
    "                current_gradients.append(gradients_val)\n",
    "                if done:\n",
    "                    break\n",
    "            all_rewards.append(current_rewards)\n",
    "            all_gradients.append(current_gradients)\n",
    "            \n",
    "            # Perform a Policy Update after running the policy for 10 episodes\n",
    "            all_rewards = discount_and_normalize_rewards(all_rewards, discount_rate)\n",
    "            feed_dict = {}\n",
    "            for var_index, grad_placeholder in enumerate(gradient_placeholders):\n",
    "                # Multiply the gradients by the action scores and compute the mean\n",
    "                mean_gradients = np.mean([reward * all_gradients[game_index][step][var_index]\n",
    "                                         for game_index, rewards in enumerate(all_rewards)\n",
    "                                         for step, reward in enumerate(rewards)], axis=0)\n",
    "                feed_dict[grad_placeholder] = mean_gradients\n",
    "                \n",
    "            sess.run(training_op, feed_dict=feed_dict)\n",
    "            if iteration % save_iterations == 0:\n",
    "                # save_path = saver.save(sess, '/Users/harikoduvely/Projects/RL/DataSets/NSL_KDD_CKPT/nsl_kdd_qlearning_4.ckpt')\n",
    "                save_path = saver.save(sess, 'datasets/nsl_kdd_qlearning_1.ckpt')\n",
    "\n",
    "t_end = time.time()\n",
    "print(\"Traning Time: \" + str(t_end - t_start) + \"Secs\")"
   ]
  },
  {
   "cell_type": "code",
   "execution_count": 10,
   "metadata": {
    "collapsed": false,
    "scrolled": false
   },
   "outputs": [
    {
     "name": "stdout",
     "output_type": "stream",
     "text": [
      "INFO:tensorflow:Restoring parameters from datasets/nsl_kdd_qlearning_1.ckpt\n"
     ]
    }
   ],
   "source": [
    "# Evaluation of the results\n",
    "n_max_steps = 1000\n",
    "o_list = []\n",
    "p_list = []\n",
    "a_list = []\n",
    "y_list = []\n",
    "saver = tf.train.Saver()\n",
    "with tf.Session() as sess:\n",
    "    saver.restore(sess,'datasets/nsl_kdd_qlearning_1.ckpt')\n",
    "    # load test dataset into a Pandas DataFrame\n",
    "    df = pd.read_pickle('datasets/kdd_nsl_train_onehot_string.pkl')\n",
    "    init.run()\n",
    "    tp = 0\n",
    "    fp = 0\n",
    "    tn = 0\n",
    "    fn = 0\n",
    "    for step in range(n_max_steps):\n",
    "        obs = df.iloc[step]['s']\n",
    "        y = df.iloc[step]['y']\n",
    "        outputs = logits.eval(feed_dict={X: np.array(list(obs)).reshape(1, n_inputs)})\n",
    "        p_yes_and_no = tf.concat(values=[outputs, 1 - outputs], axis=1)\n",
    "        py = p_yes_and_no.eval()\n",
    "        action = tf.multinomial(tf.log(p_yes_and_no), num_samples=1)\n",
    "        act = action.eval()\n",
    "        o_list.append(obs)\n",
    "        p_list.append(py[0][0])\n",
    "        a_list.append(act[0][0])\n",
    "        y_list.append(y) \n",
    "        \n",
    "    df_pred = pd.DataFrame({'obs':o_list,'pred':p_list, 'action':a_list, 'y':y_list})\n",
    "    # Saving the dataframe to a pickle file in directory DataSets\n",
    "    df_pred.to_pickle('datasets/kdd_nsl_train_results.pkl')"
   ]
  },
  {
   "cell_type": "code",
   "execution_count": 12,
   "metadata": {
    "collapsed": false
   },
   "outputs": [],
   "source": [
    "df_pred = pd.read_pickle('datasets/kdd_nsl_train_results.pkl')"
   ]
  },
  {
   "cell_type": "code",
   "execution_count": 13,
   "metadata": {
    "collapsed": false
   },
   "outputs": [],
   "source": [
    "lam = 0.1 * np.arange(10)"
   ]
  },
  {
   "cell_type": "code",
   "execution_count": 14,
   "metadata": {
    "collapsed": true
   },
   "outputs": [],
   "source": [
    "def generate_roc(df):\n",
    "    lamda = 0.1 * np.arange(10)\n",
    "    tpl = []\n",
    "    fpl = []\n",
    "    tnl = []\n",
    "    fnl = []\n",
    "    prl = []\n",
    "    rel = []\n",
    "    frl = []\n",
    "    for lam in lamda:\n",
    "        tp = 0.0\n",
    "        fp = 0.0\n",
    "        tn = 0.0\n",
    "        fn = 0.0\n",
    "        for i in range(df.shape[0]):\n",
    "            p = df.iloc[i]['pred']\n",
    "            y = df.iloc[i]['y']\n",
    "            y = y.astype(int)\n",
    "            if  y==1 and p>=lam:\n",
    "                tp += 1.0\n",
    "            elif y==1 and p<lam:\n",
    "                fn += 1.0\n",
    "            elif y==-1 and p>=lam:\n",
    "                fp += 1.0\n",
    "            elif y==-1 and p<lam:\n",
    "                tn += 1.0\n",
    "        pr = tp/(tp + fp + 1.0)\n",
    "        re = tp/(tp + fn + 1.0)\n",
    "        fpr = fp/(tn + fp + 1.0)\n",
    "        tpl.append(tp)\n",
    "        fpl.append(fp)\n",
    "        tnl.append(tn)\n",
    "        fnl.append(fn)\n",
    "        prl.append(pr)\n",
    "        rel.append(re)\n",
    "        frl.append(fpr)\n",
    "    df_lam = pd.DataFrame({'lam': lamda, 'TP': tpl, 'FP': fpl, 'TN': tnl, 'FN': fnl, 'Precision': prl, 'Recall': rel, 'FPR':frl})\n",
    "    return df_lam"
   ]
  },
  {
   "cell_type": "code",
   "execution_count": 15,
   "metadata": {
    "collapsed": false
   },
   "outputs": [],
   "source": [
    "df_in = df_pred.drop(['action','obs'], axis=1)"
   ]
  },
  {
   "cell_type": "code",
   "execution_count": 16,
   "metadata": {
    "collapsed": false
   },
   "outputs": [],
   "source": [
    "df_lam = generate_roc(df_in)"
   ]
  },
  {
   "cell_type": "code",
   "execution_count": 17,
   "metadata": {
    "collapsed": false
   },
   "outputs": [
    {
     "data": {
      "text/plain": [
       "[<matplotlib.lines.Line2D at 0x129eabb90>]"
      ]
     },
     "execution_count": 17,
     "metadata": {},
     "output_type": "execute_result"
    }
   ],
   "source": [
    "plt.plot(df_lam['FPR'],df_lam['Recall'])"
   ]
  },
  {
   "cell_type": "code",
   "execution_count": 18,
   "metadata": {
    "collapsed": false
   },
   "outputs": [
    {
     "data": {
      "image/png": "[encoded data removed]",
      "text/plain": [
       "<matplotlib.figure.Figure at 0x129c23fd0>"
      ]
     },
     "metadata": {},
     "output_type": "display_data"
    }
   ],
   "source": [
    "plt.show()"
   ]
  },
  {
   "cell_type": "code",
   "execution_count": null,
   "metadata": {
    "collapsed": true
   },
   "outputs": [],
   "source": []
  }
 ],
 "metadata": {
  "kernelspec": {
   "display_name": "Python 2",
   "language": "python",
   "name": "python2"
  },
  "language_info": {
   "codemirror_mode": {
    "name": "ipython",
    "version": 2
   },
   "file_extension": ".py",
   "mimetype": "text/x-python",
   "name": "python",
   "nbconvert_exporter": "python",
   "pygments_lexer": "ipython2",
   "version": "2.7.13"
  }
 },
 "nbformat": 4,
 "nbformat_minor": 0
}
